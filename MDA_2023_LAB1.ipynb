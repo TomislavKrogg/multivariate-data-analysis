{
 "cells": [
  {
   "cell_type": "markdown",
   "id": "ef633b50-78ac-4480-8950-b828717f5c5f",
   "metadata": {
    "tags": []
   },
   "source": [
    "Sveučilište u Zagrebu  \n",
    "Fakultet elektrotehnike i računarstva  \n",
    "  \n",
    "## Multivarijatna analiza podataka - ak. god. 2022/2023  \n",
    "http://www.fer.unizg.hr/predmet/map\n",
    "\n",
    "### Prva laboratorijska vježba - Geometrija uzorka, multivarijatna normalna razdioba, statističko zaključivanje\n",
    "\n",
    "**Rok za predaju: 2. travnja 2023. u 23:59h**"
   ]
  },
  {
   "cell_type": "markdown",
   "id": "ec70b11c-ef30-4535-8aaf-a14af37aea29",
   "metadata": {
    "tags": []
   },
   "source": [
    "------------------------------\n",
    "\n",
    "### Uvod i upute za predaju\n",
    "\n",
    "Rješavanje vježbe svodi se na čitanje uputa u ćelijama s tekstom, nadopunjavanje blokova kôda (možete dodavati i dodatne blokove kôda ukoliko je potrebno) i ispisivanje rezultata (u vidu ispisa iz funkcija, tablica i grafova). Vježbu radite samostalno, a svoje rješenje branite na terminima koji su vam dodijeljeni u kalendaru. **Pritom morate razumjeti teorijske osnove implementiranih rješenja, u okviru onoga što je obrađeno na predavanjima, te morate pokazati da razumijete sav kôd koji ste napisali.** Zadatci u samoj vježbi su istraživačkog tipa - ne postoji nužno samo jedan točan način rješavanja svakog zadatka, zato potičemo studente na eksperimentiranje.\n",
    "\n",
    "Kôd možete pisati u Python ili R programskim jezicima. Ukoliko želite koristiti R, potrebno je instalirati određeni paket prema [ovim jednostavnim uputama](https://datatofish.com/r-jupyter-notebook/), i zatim odabrati R kernel u gornjem desnom kutu. **Osim ako u određenom zadatku ne piše drugačije, za implementaciju rješenja možete koristiti proizvoljne biblioteke.**\n",
    "\n",
    "**Vaše rješenje potrebno je predati u sustav _Moodle_ u obliku .ipynb datoteke naziva IME_PREZIME_JMBAG.ipynb.** Podsjećamo da bodovi iz laboratorijskih vježbi ulaze i u bodove na ispitnom roku, te da je za polaganje predmeta potrebno imati barem 50% ukupnih bodova iz laboratorijskih vježbi. **Nadoknade laboratorijskih vježbi neće biti organizirane.** Za sva dodatna pitanja svakako se javite na email adresu predmeta: _map@fer.hr_.\n",
    "\n",
    "------------------------------"
   ]
  },
  {
   "cell_type": "code",
   "execution_count": 1,
   "id": "af018d9d-a7e0-4424-9207-c6855e101636",
   "metadata": {},
   "outputs": [],
   "source": [
    "import random\n",
    "import numpy as np\n",
    "import pandas as pd\n",
    "import matplotlib.pyplot as plt\n",
    "import seaborn as sns\n",
    "from scipy import stats\n",
    "from scipy.stats import shapiro\n",
    "from scipy.stats import f\n",
    "from scipy.stats import ttest_rel\n",
    "from matplotlib.patches import Ellipse\n",
    "from scipy.stats import t\n",
    "from scipy.stats import chi2\n",
    "from statsmodels.multivariate.manova import MANOVA"
   ]
  },
  {
   "cell_type": "markdown",
   "id": "d7b099f6-b009-4f4e-9bb9-8e8a8935abb0",
   "metadata": {},
   "source": [
    "### 1. Geometrija uzorka i slučajno uzorkovanje"
   ]
  },
  {
   "cell_type": "markdown",
   "id": "a14f138d-3dde-431d-be92-0eac68824ae2",
   "metadata": {
    "tags": []
   },
   "source": [
    "Neka je dan idući uzorak s $n = 4$ opservacije i $p = 3$ varijabli:\n",
    "\n",
    "$$\n",
    "\\mathbf{X} = \n",
    "\\begin{bmatrix}\n",
    "10 & 3 & 2 \\\\\n",
    "7 & 2 & 6 \\\\\n",
    "8 & 1 & 3 \\\\ \n",
    "7 & 1 & 4  \n",
    "\\end{bmatrix}\n",
    "$$"
   ]
  },
  {
   "cell_type": "markdown",
   "id": "89b82300-ad4f-437e-b6e0-d25c88eb1dd2",
   "metadata": {},
   "source": [
    "#### (a) \n",
    "\n",
    "Izračunajte i ispišite uzorački vektor srednjih vrijednosti $\\overline{\\mathbf{x}}$, uzoračku matricu kovarijance $\\mathbf{S}$ i uzoračku matricu korelacije $\\mathbf{R}$. "
   ]
  },
  {
   "cell_type": "code",
   "execution_count": 2,
   "id": "559e4d68-40a7-44f7-a1ac-8db07fb9f4d3",
   "metadata": {},
   "outputs": [
    {
     "name": "stdout",
     "output_type": "stream",
     "text": [
      "Vektor srednjih vrijednosti:\n",
      " [8.   1.75 3.75]\n",
      "Uzoračka matrica kovarijance:\n",
      " [[ 2.          1.         -2.        ]\n",
      " [ 1.          0.91666667 -0.41666667]\n",
      " [-2.         -0.41666667  2.91666667]]\n",
      "Uzoračka matrica korelacije:\n",
      " [[ 1.          0.73854895 -0.82807867]\n",
      " [ 0.73854895  1.         -0.2548236 ]\n",
      " [-0.82807867 -0.2548236   1.        ]]\n"
     ]
    }
   ],
   "source": [
    "X = np.array([[10, 3, 2],\n",
    "                 [7, 2, 6],\n",
    "                 [8, 1, 3],\n",
    "                 [7, 1, 4]])\n",
    "\n",
    "mean_vector = np.mean(X, axis=0)\n",
    "print(\"Vektor srednjih vrijednosti:\\n\", mean_vector)\n",
    "\n",
    "cov_matrix = np.cov(X, rowvar=False)\n",
    "print(\"Uzoračka matrica kovarijance:\\n\", cov_matrix)\n",
    "\n",
    "cor_matrix = np.corrcoef(X, rowvar=False)\n",
    "print(\"Uzoračka matrica korelacije:\\n\", cor_matrix)\n"
   ]
  },
  {
   "cell_type": "markdown",
   "id": "ba0eae1e-9779-4a46-8697-a8862cfa5c39",
   "metadata": {
    "tags": []
   },
   "source": [
    "Vizualizirajte graf raspršenja između prve i druge varijable, zatim prve i treće varijable. Usporedite grafove sa vrijednostima kovarijance i korelacije između tih varijabli."
   ]
  },
  {
   "cell_type": "code",
   "execution_count": 3,
   "id": "98ba40c1-3e5d-40b4-a36b-31a5d4f534c4",
   "metadata": {},
   "outputs": [
    {
     "data": {
      "image/png": "[encoded data removed]",
      "text/plain": [
       "<Figure size 432x288 with 1 Axes>"
      ]
     },
     "metadata": {
      "needs_background": "light"
     },
     "output_type": "display_data"
    },
    {
     "data": {
      "image/png": "[encoded data removed]",
      "text/plain": [
       "<Figure size 432x288 with 1 Axes>"
      ]
     },
     "metadata": {
      "needs_background": "light"
     },
     "output_type": "display_data"
    }
   ],
   "source": [
    "plt.scatter(X[:,0], X[:,1], color='green')\n",
    "plt.title('Scatter plot prve i druge varijable')\n",
    "plt.xlabel('Varijabla 1')\n",
    "plt.ylabel('Varijabla 2')\n",
    "plt.show()\n",
    "\n",
    "plt.scatter(X[:,0], X[:,2], color='magenta')\n",
    "plt.title('Scatter plot prve i treće varijable')\n",
    "plt.xlabel('Varijabla 1')\n",
    "plt.ylabel('Varijabla 3')\n",
    "plt.show()"
   ]
  },
  {
   "cell_type": "markdown",
   "id": "d351a448-7f48-4edc-95a9-3cf8b731fb44",
   "metadata": {
    "tags": []
   },
   "source": [
    " Izračunajte statističku udaljenost:\n",
    " \n",
    " $$\n",
    " d\\,(\\mathbf{x}_1, \\mathbf{x}_2) = ((\\mathbf{x}_1 - \\mathbf{x}_2)^\\intercal \\, \\mathbf{S}^{-1} (\\mathbf{x}_1 - \\mathbf{x}_2)\n",
    " $$\n",
    "  \n",
    " između prve i zadnje opservacije $d\\,(\\mathbf{x}_1, \\mathbf{x}_4)$. Usporedite ju s euklidskom udaljenošću."
   ]
  },
  {
   "cell_type": "code",
   "execution_count": 4,
   "id": "33abea9e-22ff-4567-aa6c-b77c697c7a05",
   "metadata": {
    "tags": []
   },
   "outputs": [
    {
     "name": "stdout",
     "output_type": "stream",
     "text": [
      "Statistička udaljenost između x1 i x4: 6.000000000000028\n",
      "Euklidska udaljenost između x1 i x4: 4.123105625617661\n"
     ]
    }
   ],
   "source": [
    "S_inv = np.linalg.inv(cov_matrix)\n",
    "\n",
    "x1 = X[0, :]\n",
    "x4 = X[3, :]\n",
    "d_stat = np.dot(np.dot((x1 - x4).T, S_inv), (x1 - x4))\n",
    "\n",
    "print(\"Statistička udaljenost između x1 i x4:\", d_stat)\n",
    "\n",
    "d_euc = np.linalg.norm(x1 - x4)\n",
    "\n",
    "print(\"Euklidska udaljenost između x1 i x4:\", d_euc)"
   ]
  },
  {
   "cell_type": "markdown",
   "id": "fc3c0c3a-dd1c-4c9f-bafb-43bf466e8a0e",
   "metadata": {
    "tags": []
   },
   "source": [
    "#### (b) \n",
    "Neka $\\mathbf{x}_i \\in \\mathbb{R}^{n \\times 1}$ predstavlja vektor vrijednosti varijable $i$  (iz uzorka $\\mathbf{X}$), a $\\overline{x}_i$ predstavlja uzoračku srednju vrijednost varijable $i$. Za svaku varijablu $i$, izračunajte vektor devijacija (reziduala) $\\mathbf{d}_i = \\mathbf{x}_i - \\overline{x}_i \\mathbf{1}$. Usporedite duljinu vektora devijacija sa standardnom devijacijom varijable."
   ]
  },
  {
   "cell_type": "code",
   "execution_count": 5,
   "id": "386cf56a-485f-4771-911e-059b04b5d725",
   "metadata": {},
   "outputs": [
    {
     "name": "stdout",
     "output_type": "stream",
     "text": [
      "Variable 1: Deviation vector length: 2.449489742783178, Standard deviation: 1.224744871391589\n",
      "Variable 2: Deviation vector length: 1.6583123951777, Standard deviation: 0.82915619758885\n",
      "Variable 3: Deviation vector length: 2.958039891549808, Standard deviation: 1.479019945774904\n"
     ]
    }
   ],
   "source": [
    "x_mean = np.mean(X, axis=0)\n",
    "d = X - x_mean\n",
    "x_std = np.std(X, axis=0)\n",
    "\n",
    "for i in range(X.shape[1]):\n",
    "    print(f\"Variable {i+1}: Deviation vector length: {np.linalg.norm(d[:,i])}, Standard deviation: {x_std[i]}\")"
   ]
  },
  {
   "cell_type": "markdown",
   "id": "17ff65c3-c6d9-4260-b232-558d99829225",
   "metadata": {},
   "source": [
    "Generirajte $M = 1000$ realizacija slučajnog vektora dimenzije $4 \\times 1$, gdje je svaka varijabla vektora iz diskretne uniformne razdiobe $\\mathcal{U}\\{0,10\\}$. Za svaku varijablu izračunajte standardnu devijaciju i duljinu vektora devijacija. Na grafu prikažite standardnu devijaciju kao funkciju u ovisnosti o duljini vektora devijacija."
   ]
  },
  {
   "cell_type": "code",
   "execution_count": 6,
   "id": "35e12b0d-0594-4529-95ae-9d756f8d12a6",
   "metadata": {},
   "outputs": [
    {
     "data": {
      "image/png": "[encoded data removed]",
      "text/plain": [
       "<Figure size 432x288 with 1 Axes>"
      ]
     },
     "metadata": {
      "needs_background": "light"
     },
     "output_type": "display_data"
    }
   ],
   "source": [
    "M = 1000\n",
    "n = 4\n",
    "a = 0\n",
    "b = 10\n",
    "\n",
    "stds = []\n",
    "d_lengths = []\n",
    "\n",
    "for i in range(M):\n",
    "    x = np.random.uniform(a, b, size=(n, 1))\n",
    "    x_mean = np.mean(x)\n",
    "    d = x - x_mean*np.ones((n, 1))\n",
    "    stds.append(np.std(x))\n",
    "    d_lengths.append(np.linalg.norm(d))\n",
    "\n",
    "plt.scatter(d_lengths, stds, s=5, color='magenta')\n",
    "plt.xlabel('Duljina vektora devijacije')\n",
    "plt.ylabel('Standardna devijacija')\n",
    "plt.title('Standardna devijacija - Duljina vektora devijacije')\n",
    "plt.show()"
   ]
  },
  {
   "cell_type": "markdown",
   "id": "ede14dc4-9495-4081-a95c-60902c0c0ded",
   "metadata": {
    "tags": []
   },
   "source": [
    "#### (c) \n",
    "Preko izračunatih vektora devijacija $\\mathbf{d}_i$ rekonstruirajte matricu kovarijance $\\mathbf{S}$, a zatim i matricu korelacije $\\mathbf{R}$. Dokažite da su rekonstruirane matrice jednake gore izračunatima."
   ]
  },
  {
   "cell_type": "code",
   "execution_count": 7,
   "id": "9a96d8f5-16a1-4eed-8fbf-68fe27fefe07",
   "metadata": {},
   "outputs": [
    {
     "name": "stdout",
     "output_type": "stream",
     "text": [
      "Rekontruirana matrica kovarijance:\n",
      "[[ 2.          1.         -2.        ]\n",
      " [ 1.          0.91666667 -0.41666667]\n",
      " [-2.         -0.41666667  2.91666667]]\n",
      "Rekontruirana matrica korelacije:\n",
      "[[ 1.          0.73854895 -0.82807867]\n",
      " [ 0.73854895  1.         -0.2548236 ]\n",
      " [-0.82807867 -0.2548236   1.        ]]\n"
     ]
    }
   ],
   "source": [
    "x_mean = np.mean(X, axis=0)\n",
    "d = X - x_mean\n",
    "x_std = np.std(X, axis=0)\n",
    "\n",
    "S_reconstructed = np.dot(d.T, d) / (X.shape[0] - 1)\n",
    "print(\"Rekontruirana matrica kovarijance:\")\n",
    "print(S_reconstructed)\n",
    "\n",
    "R_reconstructed = S_reconstructed / np.sqrt(np.outer(np.diag(S_reconstructed), np.diag(S_reconstructed)))\n",
    "print(\"Rekontruirana matrica korelacije:\")\n",
    "print(R_reconstructed)"
   ]
  },
  {
   "cell_type": "markdown",
   "id": "7dfda4fa-53c8-46b4-b3ec-152b1970f8c4",
   "metadata": {
    "tags": []
   },
   "source": [
    "#### (d) \n",
    "Izračunajte uzoračku generaliziranu varijancu $|\\mathbf{S}|$ uzorka $\\mathbf{X}$. Zatim dodajte novu varijablu koja je linearna kombinacija prve i druge varijable $\\mathbf{x}_3 = \\mathbf{x}_0 + \\mathbf{x}_1$. Izračunajte uzoračku generaliziranu varijancu na novom uzorku."
   ]
  },
  {
   "cell_type": "code",
   "execution_count": 8,
   "id": "a806c5e0-0d8c-4338-bd26-89cf685f2ab5",
   "metadata": {},
   "outputs": [
    {
     "name": "stdout",
     "output_type": "stream",
     "text": [
      "Uzoračka generalizirana varijanca:\n",
      "0.08333333333333307\n"
     ]
    }
   ],
   "source": [
    "S = np.cov(X, rowvar=False, ddof=1)\n",
    "s_generalized = np.linalg.det(S)\n",
    "\n",
    "print(\"Uzoračka generalizirana varijanca:\")\n",
    "print(s_generalized)"
   ]
  },
  {
   "cell_type": "code",
   "execution_count": 9,
   "id": "595ba0ef",
   "metadata": {},
   "outputs": [
    {
     "name": "stdout",
     "output_type": "stream",
     "text": [
      "Uzoračka generalizirana varijanca na novom uzorku:\n",
      "-4.021988503561052e-17\n"
     ]
    }
   ],
   "source": [
    "X_new = np.hstack((X, (X[:, 0] + X[:, 1]).reshape(-1, 1)))\n",
    "\n",
    "S_new = np.cov(X_new, rowvar=False)\n",
    "s_generalized_new = np.linalg.det(S_new)\n",
    "\n",
    "print(\"Uzoračka generalizirana varijanca na novom uzorku:\")\n",
    "print(s_generalized_new)"
   ]
  },
  {
   "cell_type": "markdown",
   "id": "36879c07-40c8-4cd9-9761-e7b446e44279",
   "metadata": {},
   "source": [
    "Maknite zadnju opservaciju iz originalnog uzorka $\\mathbf{X}$. Izračunajte uzoračku generaliziranu varijancu i svojstvene vektore na novom uzorku. Što možete zaključiti iz ovog i prethodnog primjera?"
   ]
  },
  {
   "cell_type": "code",
   "execution_count": 10,
   "id": "7ecb1e88-383f-4511-ba9c-7cca8552237e",
   "metadata": {},
   "outputs": [
    {
     "name": "stdout",
     "output_type": "stream",
     "text": [
      "Novi uzorak X bez zadnje opservacije:\n",
      "[[10  3  2]\n",
      " [ 7  2  6]\n",
      " [ 8  1  3]]\n",
      "Uzoračka generalizirana varijanca na novom uzorku:\n",
      "1.4694128267097573e-16\n",
      "Svojstveni vektori na novom uzorku:\n",
      "[[ 0.63162067+0.j         -0.23723844-0.14553246j -0.23723844+0.14553246j]\n",
      " [ 0.59626722+0.j          0.84213186+0.j          0.84213186-0.j        ]\n",
      " [ 0.49550049+0.j          0.03809953+0.46032661j  0.03809953-0.46032661j]]\n"
     ]
    }
   ],
   "source": [
    "X_new = np.delete(X, -1, axis=0)\n",
    "print(\"Novi uzorak X bez zadnje opservacije:\")\n",
    "print(X_new)\n",
    "\n",
    "S_new = np.cov(X_new, rowvar=False, ddof=1)\n",
    "s_generalized_new = np.linalg.det(S_new)\n",
    "w, v = np.linalg.eig(X_new)\n",
    "\n",
    "print(\"Uzoračka generalizirana varijanca na novom uzorku:\")\n",
    "print(s_generalized_new)\n",
    "\n",
    "print(\"Svojstveni vektori na novom uzorku:\")\n",
    "print(v)"
   ]
  },
  {
   "cell_type": "markdown",
   "id": "e8b20574-1317-4fca-92d8-a6d720a9d030",
   "metadata": {
    "tags": []
   },
   "source": [
    "### 2. Multivarijatna normalna razdioba"
   ]
  },
  {
   "cell_type": "markdown",
   "id": "afcbbac4-f96d-430f-8709-e7f11894dc2a",
   "metadata": {
    "tags": []
   },
   "source": [
    "Generirajte uzorak $\\mathbf{X} \\in \\mathbb{R}^{1000x2}$ iz multivarijatne normalne razdiobe određene parametrima:\n",
    "\n",
    "$$\n",
    "\\mathbf{\\mu} = [2, 3],\n",
    "\\mathbf{\\Sigma} = \n",
    "\\begin{bmatrix}\n",
    "10^2 & 6^2 \\\\\n",
    "6^2 & 6^2 \\\\\n",
    "\\end{bmatrix}\n",
    "$$"
   ]
  },
  {
   "cell_type": "code",
   "execution_count": 11,
   "id": "2514c98f-64b1-4332-9bfb-d0f343b50532",
   "metadata": {},
   "outputs": [
    {
     "name": "stdout",
     "output_type": "stream",
     "text": [
      "[[ 7.40443599  8.46132891]\n",
      " [12.57490757 14.00470129]\n",
      " [ 2.46157966  2.53082473]\n",
      " [11.8271586   0.77260792]\n",
      " [ 9.60225859  6.77690421]]\n"
     ]
    }
   ],
   "source": [
    "mu = np.array([2,3])\n",
    "sigma = np.array([[10**2, 6**2],[6**2, 6**2]])\n",
    "X = np.random.multivariate_normal(mu, sigma, size=1000)\n",
    "print(X[:5])"
   ]
  },
  {
   "cell_type": "markdown",
   "id": "74bda906-420f-4023-98a4-104f5a4ad203",
   "metadata": {},
   "source": [
    "#### (a) \n",
    "\n",
    "Prikažite graf raspršenja dviju varijabli. Na istom grafu prikažite gustoću razdiobe uz pomoć elipsi za nekoliko različitih veličina $c^2$, gdje su točke $\\mathbf{x}$ sve točke koje imaju jednaku udaljenost $c^2$ od središta $\\mathbf{\\mu}$:\n",
    "\n",
    "$$\n",
    "c^2 =(\\mathbf{x} - \\mathbf{\\mu})^\\intercal \\mathbf{\\Sigma}^{-1} (\\mathbf{x} - \\mathbf{\\mu})\n",
    "$$\n",
    "Pripazite da osi grafa budu na istoj skali.\n",
    "\n",
    "**Hint**: Pogledajte `contour` funkciju u R-u, ili `plt.contour` funkciju u Pythonu (`matplotlib` biblioteka)"
   ]
  },
  {
   "cell_type": "code",
   "execution_count": 12,
   "id": "b3e6bf31-7bb7-404c-a664-6ed6f97c929f",
   "metadata": {},
   "outputs": [
    {
     "data": {
      "image/png": "[encoded data removed]",
      "text/plain": [
       "<Figure size 432x288 with 1 Axes>"
      ]
     },
     "metadata": {
      "needs_background": "light"
     },
     "output_type": "display_data"
    }
   ],
   "source": [
    "def plot_ellipse(mu, Sigma, ax, c_squared_values, colors):\n",
    "    eigenvalues, eigenvectors = np.linalg.eigh(Sigma)\n",
    "    angle = np.degrees(np.arctan2(*eigenvectors[:, 0][::-1]))\n",
    "    \n",
    "    for c_squared, color in zip(c_squared_values, colors):\n",
    "        width, height = 2 * np.sqrt(c_squared * eigenvalues)\n",
    "        ellipse = Ellipse(mu, width, height, angle, edgecolor=color, facecolor='none', lw=2)\n",
    "        ax.add_patch(ellipse)\n",
    "\n",
    "fig, ax = plt.subplots()\n",
    "ax.scatter(X[:, 0], X[:, 1], s=10, alpha=0.5)\n",
    "ax.set_aspect('equal', adjustable='box')\n",
    "ax.set_xlim(mu[0] - 60, mu[0] + 60)\n",
    "ax.set_ylim(mu[1] - 60, mu[1] + 60)\n",
    "\n",
    "plot_ellipse(mu, sigma, ax, c_squared_values=[1, 2, 3], colors=['blue', 'red', 'green'])\n",
    "\n",
    "plt.show()"
   ]
  },
  {
   "cell_type": "markdown",
   "id": "93c455c3-d899-4c3b-abc1-c0cedef7e5d1",
   "metadata": {
    "tags": []
   },
   "source": [
    "#### (b)\n",
    "\n",
    "Prikažite tri grafa raspršenja i pripadajućih elipsi uzorkovanjem iz multivarijatne normalne razdiobe s istim $\\mu$ iz prošlog podzadatka i različitim matricama kovarijanci:\n",
    "\n",
    "$$\n",
    "\\mathbf{\\Sigma_1} = \n",
    "\\begin{bmatrix}\n",
    "10^2 & 6^2 \\\\\n",
    "6^2 & 10^2 \\\\\n",
    "\\end{bmatrix},\n",
    "\\mathbf{\\Sigma_2} = \n",
    "\\begin{bmatrix}\n",
    "10^2 & 7^2 \\\\\n",
    "7^2 & 6^2 \\\\\n",
    "\\end{bmatrix}\n",
    "\\mathbf{\\Sigma_3} = \n",
    "\\begin{bmatrix}\n",
    "10^2 & 8^2 \\\\\n",
    "8^2 & 6^2 \\\\\n",
    "\\end{bmatrix}\n",
    "$$\n",
    "Ukoliko nije moguće prikazati grafove raspršenja, pokažite zašto."
   ]
  },
  {
   "cell_type": "code",
   "execution_count": 13,
   "id": "c1708037-5260-437f-bc2f-58587a70405b",
   "metadata": {},
   "outputs": [
    {
     "name": "stdout",
     "output_type": "stream",
     "text": [
      "Σ1 je pozitivno definitna: True\n",
      "Σ2 je pozitivno definitna: True\n",
      "Σ3 je pozitivno definitna: False\n"
     ]
    }
   ],
   "source": [
    "sigma1 = np.array([[10**2, 6**2],\n",
    "                   [6**2, 10**2]])\n",
    "\n",
    "sigma2 = np.array([[10**2, 7**2],\n",
    "                   [7**2, 6**2]])\n",
    "\n",
    "sigma3 = np.array([[10**2, 8**2],\n",
    "                   [8**2, 6**2]])\n",
    "\n",
    "def is_positive_definite(matrix):\n",
    "    return np.all(np.linalg.eigvals(matrix) > 0)\n",
    "\n",
    "print(\"\\u03A31 je pozitivno definitna:\", is_positive_definite(sigma1))\n",
    "print(\"\\u03A32 je pozitivno definitna:\", is_positive_definite(sigma2))\n",
    "print(\"\\u03A33 je pozitivno definitna:\", is_positive_definite(sigma3))"
   ]
  },
  {
   "cell_type": "code",
   "execution_count": 14,
   "id": "6286915f",
   "metadata": {},
   "outputs": [
    {
     "data": {
      "image/png": "[encoded data removed]",
      "text/plain": [
       "<Figure size 864x432 with 2 Axes>"
      ]
     },
     "metadata": {
      "needs_background": "light"
     },
     "output_type": "display_data"
    }
   ],
   "source": [
    "def plot_scatter_and_ellipse(mu, sigma, ax, c_squared_values, colors):\n",
    "    X = np.random.multivariate_normal(mu, sigma, num_samples)\n",
    "\n",
    "    ax.scatter(X[:, 0], X[:, 1], s=10, alpha=0.5)\n",
    "    ax.set_aspect('equal', adjustable='box')\n",
    "    ax.set_xlim(mu[0] - 60, mu[0] + 60)\n",
    "    ax.set_ylim(mu[1] - 60, mu[1] + 60)\n",
    "\n",
    "    plot_ellipse(mu, sigma, ax, c_squared_values, colors)\n",
    "\n",
    "num_samples = 1000\n",
    "c_squared_values = [1, 2, 3]\n",
    "colors = ['blue', 'red', 'green']\n",
    "\n",
    "fig, axs = plt.subplots(1, 2, figsize=(12, 6))\n",
    "\n",
    "plot_scatter_and_ellipse(mu, sigma1, axs[0], c_squared_values, colors)\n",
    "axs[0].set_title(\"\\u03A31\")\n",
    "\n",
    "plot_scatter_and_ellipse(mu, sigma2, axs[1], c_squared_values, colors)\n",
    "axs[1].set_title(\"\\u03A32\")\n",
    "\n",
    "plt.show()"
   ]
  },
  {
   "cell_type": "markdown",
   "id": "4397ae85-fe66-4920-8807-7a19a8638eda",
   "metadata": {
    "tags": []
   },
   "source": [
    "#### (c)\n",
    "\n",
    "Promatramo $\\mathbf{\\Sigma}_1$ i $\\mathbf{\\Sigma}_2$ iz prošlog podzadatka. Neka su $\\mathbf{X}_1 \\sim \\mathbf{\\mathcal{N}}(\\mathbf{\\mu, \\mathbf{\\Sigma}_1)}$ i $\\mathbf{X}_2 \\sim \\mathbf{\\mathcal{N}}(\\mathbf{\\mu, \\mathbf{\\Sigma}_2)}$ slučajni dvo-dimenzionalni vektori, i neka je $\\mathbf{X}_r$ slučajni vektor određen izrazom $\\mathbf{X}_r = \\mathbf{X}_1 - \\mathbf{X}_2$. Odredite populacijske parametre koji određuju $\\mathbf{X}_r \\sim \\mathbf{\\mathcal{N}}(\\mathbf{\\mu}_r, \\mathbf{\\Sigma}_r)$."
   ]
  },
  {
   "cell_type": "code",
   "execution_count": 15,
   "id": "97be3ca0-39fa-440b-a447-ba5c96071e2d",
   "metadata": {},
   "outputs": [
    {
     "name": "stdout",
     "output_type": "stream",
     "text": [
      "μr:\n",
      "[0 0]\n",
      "Σr:\n",
      "[[200  85]\n",
      " [ 85 136]]\n"
     ]
    }
   ],
   "source": [
    "mu_r = mu - mu\n",
    "sigma_r = sigma1 + sigma2\n",
    "\n",
    "print(\"\\u03BCr:\")\n",
    "print(mu_r)\n",
    "print(\"\\u03A3r:\")\n",
    "print(sigma_r)"
   ]
  },
  {
   "cell_type": "markdown",
   "id": "636ff669-b3f4-43b8-a83a-c38528d8c282",
   "metadata": {},
   "source": [
    "Procjenite iste te parametre uzorkovanjem $n=10^7$ opservacija iz $\\mathbf{X_1}$ i $\\mathbf{X_2}$."
   ]
  },
  {
   "cell_type": "code",
   "execution_count": 16,
   "id": "bbce4482-8f96-4e89-b07e-9b82c4d56540",
   "metadata": {},
   "outputs": [
    {
     "name": "stdout",
     "output_type": "stream",
     "text": [
      "μr_estimated:\n",
      "[0.00113165 0.0007333 ]\n",
      "Σr_estimated:\n",
      "[[200.03688307  85.10187455]\n",
      " [ 85.10187455 136.11502139]]\n"
     ]
    }
   ],
   "source": [
    "n_samples = 10**7\n",
    "\n",
    "X1_samples = np.random.multivariate_normal(mu, sigma1, n_samples)\n",
    "X2_samples = np.random.multivariate_normal(mu, sigma2, n_samples)\n",
    "\n",
    "X_r_samples = X1_samples - X2_samples\n",
    "\n",
    "mu_r_estimated = np.mean(X_r_samples, axis=0)\n",
    "sigma_r_estimated = np.cov(X_r_samples, rowvar=False)\n",
    "\n",
    "print(\"\\u03BCr_estimated:\")\n",
    "print(mu_r_estimated)\n",
    "print(\"\\u03A3r_estimated:\")\n",
    "print(sigma_r_estimated)"
   ]
  },
  {
   "cell_type": "markdown",
   "id": "0247ef2a-443f-4d20-93db-051901344345",
   "metadata": {},
   "source": [
    "Procjenite parametre procjenitelja $\\overline{\\mathbf{X}}_r \\sim \\mathbf{\\mathcal{N}}(\\mathbf{\\mu}_1, (1/n)\\mathbf{\\Sigma}_1)$ uzorkovanjem iz $\\mathbf{X_1}$ i $\\mathbf{X_2}$ na sljedeći način: generirajte $K = 10^5$ uzoraka, gdje svaki uzorak ima $n = 100$ opservacija."
   ]
  },
  {
   "cell_type": "code",
   "execution_count": 17,
   "id": "7756a8f2-bd2e-4484-aced-f5eec403d269",
   "metadata": {},
   "outputs": [
    {
     "name": "stdout",
     "output_type": "stream",
     "text": [
      "μr_estimated:\n",
      "[0.00113165 0.0007333 ]\n",
      "Σr_estimated_scaled:\n",
      "[[2.00022361 0.84931508]\n",
      " [0.84931508 1.35331736]]\n"
     ]
    }
   ],
   "source": [
    "K = 10**5\n",
    "n = 100\n",
    "\n",
    "X_r_mean_samples = np.zeros((K, 2))\n",
    "\n",
    "for i in range(K):\n",
    "    X1_samples = np.random.multivariate_normal(mu, sigma1, n)\n",
    "    X2_samples = np.random.multivariate_normal(mu, sigma2, n)\n",
    "    X_r_samples = X1_samples - X2_samples\n",
    "    X_r_mean = np.mean(X_r_samples, axis=0)\n",
    "    X_r_mean_samples[i] = X_r_mean\n",
    "\n",
    "mu_r_estimated_scaled = np.mean(X_r_mean_samples, axis=0)\n",
    "sigma_r_estimated_scaled = np.cov(X_r_mean_samples, rowvar=False)\n",
    "\n",
    "print(\"\\u03BCr_estimated:\")\n",
    "print(mu_r_estimated)\n",
    "print(\"\\u03A3r_estimated_scaled:\")\n",
    "print(sigma_r_estimated_scaled)"
   ]
  },
  {
   "cell_type": "markdown",
   "id": "08fd7944-e0da-4705-98d9-7fd6a7dbe2f5",
   "metadata": {
    "tags": []
   },
   "source": [
    "### 3. Statističko zaključivanje"
   ]
  },
  {
   "cell_type": "markdown",
   "id": "df25ab21-d463-4258-be82-b5ae72ef4897",
   "metadata": {},
   "source": [
    "Generirajte uzorak $\\mathbf{X} \\in \\mathbb{R}^{1000x2}$ iz multivarijatne normalne razdiobe s parametrima:\n",
    "\n",
    "$$\n",
    "\\mathbf{\\mu} = [2, 3],\n",
    "\\mathbf{\\Sigma} = \n",
    "\\begin{bmatrix}\n",
    "10^2 & 7^2 \\\\\n",
    "7^2 & 6^2 \\\\\n",
    "\\end{bmatrix}\n",
    "$$"
   ]
  },
  {
   "cell_type": "code",
   "execution_count": 18,
   "id": "4b6368bb-7027-4f92-bf32-6eccb55cf1da",
   "metadata": {},
   "outputs": [
    {
     "name": "stdout",
     "output_type": "stream",
     "text": [
      "[[ -2.71090527  -0.03398056]\n",
      " [ -6.63882852   3.65512228]\n",
      " [  4.65936266   3.61991819]\n",
      " [-14.7462525   -3.37831362]\n",
      " [  5.84898906   6.98264454]]\n"
     ]
    }
   ],
   "source": [
    "rng = np.random.RandomState(42)\n",
    "mu = np.array([2,3])\n",
    "cov = np.array([[10**2, 7**2],[7**2, 6**2]])\n",
    "X = rng.multivariate_normal(mu, cov, size=1000)\n",
    "print(X[:5])"
   ]
  },
  {
   "cell_type": "markdown",
   "id": "92ee4006-1aac-4165-a74e-dafde913edc8",
   "metadata": {},
   "source": [
    "#### (a)\n",
    "\n",
    "Implementirajte funkciju za određivanje *Hotellingove $T^2$* statistike."
   ]
  },
  {
   "cell_type": "code",
   "execution_count": 19,
   "id": "4b19ea1d",
   "metadata": {},
   "outputs": [],
   "source": [
    "import numpy as np\n",
    "from scipy.stats import f\n",
    "\n",
    "def hotelling_t2(X, mu, sigma, n):\n",
    "    x_bar = np.mean(X, axis=0)\n",
    "    t2 = n * (x_bar - mu).T @ np.linalg.inv(sigma) @ (x_bar - mu)\n",
    "    return t2"
   ]
  },
  {
   "cell_type": "markdown",
   "id": "e0163353-37db-46ed-8d8a-2bd75d204e11",
   "metadata": {},
   "source": [
    "Za generirani uzorak testirajte hiptezu $H_0: \\mathbf{\\mu}= [2, 3]$ naspram $H_1: \\mathbf{\\mu} \\neq [2, 3]$ za razinu značajnosti $\\alpha = 0.05$."
   ]
  },
  {
   "cell_type": "code",
   "execution_count": 20,
   "id": "739bae3d",
   "metadata": {},
   "outputs": [
    {
     "name": "stdout",
     "output_type": "stream",
     "text": [
      "4.333000124708478\n",
      "3.0047426924420595\n",
      "Hipoteza H0 odbijena, razlike su značajne.\n"
     ]
    }
   ],
   "source": [
    "n = X.shape[0]\n",
    "p = X.shape[1]\n",
    "sigma = np.cov(X, rowvar=False)\n",
    "t2 = hotelling_t2(X, mu, sigma, n)\n",
    "\n",
    "alpha = 0.05\n",
    "F_critical = f.ppf(1 - alpha, p, n - p)\n",
    "\n",
    "print(t2)\n",
    "print(F_critical)\n",
    "\n",
    "if t2 > F_critical:\n",
    "    print(\"Hipoteza H0 odbijena, razlike su značajne.\")\n",
    "else:\n",
    "    print(\"Hipoteza H0 se ne odbacuje, razlike nisu značajne.\")"
   ]
  },
  {
   "cell_type": "markdown",
   "id": "3b2b015e-ca63-40a9-bd6b-82507e8f7d9d",
   "metadata": {},
   "source": [
    "#### (b)\n",
    "\n",
    "Za generirani uzorak, prikažite na grafu $95\\%$-tno područje pouzdanosti za $\\mathbf{\\mu}$ razdiobe."
   ]
  },
  {
   "cell_type": "code",
   "execution_count": 21,
   "id": "49f4ac2c",
   "metadata": {},
   "outputs": [
    {
     "name": "stdout",
     "output_type": "stream",
     "text": [
      "[1.5882189  2.97656755]\n"
     ]
    },
    {
     "data": {
      "image/png": "[encoded data removed]",
      "text/plain": [
       "<Figure size 432x288 with 1 Axes>"
      ]
     },
     "metadata": {
      "needs_background": "light"
     },
     "output_type": "display_data"
    }
   ],
   "source": [
    "X_bar = np.mean(X, axis=0)\n",
    "print(X_bar)\n",
    "S = np.cov(X, rowvar=False)\n",
    "\n",
    "alpha = 0.05\n",
    "\n",
    "F_critical = f.ppf(1 - alpha, p, n - p)\n",
    "\n",
    "eig_vals, eig_vecs = np.linalg.eig(S)\n",
    "\n",
    "width, height = np.sqrt(eig_vals) * np.sqrt((p * (n - 1) * F_critical) / (n * (n - p)))\n",
    "angle = np.degrees(np.arctan2(eig_vecs[1, 0], eig_vecs[0, 0]))\n",
    "\n",
    "confidence_ellipse = Ellipse(xy=X_bar, width=width, height=height, angle=angle, edgecolor='r', facecolor='none', linestyle='--', linewidth=2, alpha=0.8)\n",
    "plt.gca().add_patch(confidence_ellipse)\n",
    "\n",
    "plt.plot(X_bar[0], X_bar[1], 'bo', markersize=5, label='$\\mathbf{\\overline{X}}$')\n",
    "\n",
    "plt.title('95% područje pouzdanosti za $\\mathbf{\\mu}$ razdiobe')\n",
    "plt.xlabel('$X_1$')\n",
    "plt.ylabel('$X_2$')\n",
    "plt.grid(True)\n",
    "\n",
    "plt.xlim(1, 2)\n",
    "plt.ylim(2.5, 3.5)\n",
    "\n",
    "plt.legend()\n",
    "plt.show()"
   ]
  },
  {
   "cell_type": "markdown",
   "id": "6c7c6493-2bc3-4922-ad5e-a646cde00e18",
   "metadata": {},
   "source": [
    "#### (c)\n",
    "\n",
    "Uz pomoć simultanih intervala pouzdanosti ($T^2$-interval), odredite $95\\%$-tno područje pouzdanosti za srednje vrijednosti varijabli, $\\mu_1$ i $\\mu_2$, te njihovu razliku $\\mu_2 - \\mu_1$."
   ]
  },
  {
   "cell_type": "code",
   "execution_count": 22,
   "id": "f6ddc42f",
   "metadata": {},
   "outputs": [
    {
     "name": "stdout",
     "output_type": "stream",
     "text": [
      "95% CI za μ_1: [0.841195014004429, 2.3352427847637016]\n",
      "95% CI za μ_2: [2.5243982956301947, 3.4287367978430163]\n",
      "95% CI za μ_2 - μ_1: [0.9161281635950091, 1.8605691311100712]\n"
     ]
    }
   ],
   "source": [
    "n, p = X.shape\n",
    "x_bar = X.mean(axis=0)\n",
    "S = np.cov(X, rowvar=False)\n",
    "mu = np.array([2, 3])\n",
    "T2 = n * (x_bar - mu).T @ np.linalg.inv(S) @ (x_bar - mu)\n",
    "alpha = 0.05\n",
    "\n",
    "df1, df2 = p, n - p\n",
    "F = stats.f.ppf(q=1 - alpha, dfn=df1, dfd=df2)\n",
    "T2_U = ((n - 1) * p / (n - p)) * F\n",
    "\n",
    "CI_mu1 = [x_bar[0] - np.sqrt(T2_U / n) * np.sqrt(S[0, 0]),\n",
    "         x_bar[0] + np.sqrt(T2_U / n) * np.sqrt(S[0, 0])]\n",
    "\n",
    "CI_mu2 = [x_bar[1] - np.sqrt(T2_U / n) * np.sqrt(S[1, 1]),\n",
    "         x_bar[1] + np.sqrt(T2_U / n) * np.sqrt(S[1, 1])]\n",
    "\n",
    "CI_diff = [(x_bar[1] - x_bar[0]) - np.sqrt(T2_U / n) * np.sqrt(S[0, 0] + S[1, 1] - 2 * S[0, 1]),\n",
    "           (x_bar[1] - x_bar[0]) + np.sqrt(T2_U / n) * np.sqrt(S[0, 0] + S[1, 1] - 2 * S[0, 1])]\n",
    "\n",
    "print(f\"95% CI za μ_1: {CI_mu1}\")\n",
    "print(f\"95% CI za μ_2: {CI_mu2}\")\n",
    "print(f\"95% CI za μ_2 - μ_1: {CI_diff}\")"
   ]
  },
  {
   "cell_type": "markdown",
   "id": "5b4130e4-8671-4069-9e78-8f374687c093",
   "metadata": {},
   "source": [
    "Izračunajte univarijatni $t$-interval pouzdanosti za srednju vrijednost svake varijable, a zatim i Bonferronijevu korekciju $t$-intervala. Usporedite s rezultatima dobivenim pomoću $T^2$-intervala."
   ]
  },
  {
   "cell_type": "code",
   "execution_count": 23,
   "id": "1a3a30bd-59f1-42f4-a9d6-d014e7f5b539",
   "metadata": {},
   "outputs": [
    {
     "name": "stdout",
     "output_type": "stream",
     "text": [
      "Univarijatni 95% CI za μ_1: (0.9905330785913337, 2.185904720176797)\n",
      "Univarijatni 95% CI za μ_2: (2.61479176516648, 3.338343328306731)\n",
      "Bonferronijev 95% CI za μ_1: (0.9045065636134431, 2.2719312351546876)\n",
      "Bonferronijev 95% CI za μ_2: (2.562720411607177, 3.390414681866034)\n",
      "95% T^2 CI za μ_1: [0.841195014004429, 2.3352427847637016]\n",
      "95% T^2 CI za μ_2: [2.5243982956301947, 3.4287367978430163]\n"
     ]
    }
   ],
   "source": [
    "def ci_t(mu, se, t_crit):\n",
    "    return mu - t_crit * se, mu + t_crit * se\n",
    "\n",
    "se_mu1 = np.sqrt(S[0, 0] / n)\n",
    "se_mu2 = np.sqrt(S[1, 1] / n)\n",
    "\n",
    "nu = n - 1\n",
    "alpha = 0.05\n",
    "\n",
    "t_critical = t.ppf(1 - alpha / 2, nu)\n",
    "t_critical_bonferroni = t.ppf(1 - alpha / (2 * p), nu)\n",
    "\n",
    "CI_mu1_t = ci_t(X_bar[0], se_mu1, t_critical)\n",
    "CI_mu2_t = ci_t(X_bar[1], se_mu2, t_critical)\n",
    "\n",
    "CI_mu1_t_bonferroni = ci_t(X_bar[0], se_mu1, t_critical_bonferroni)\n",
    "CI_mu2_t_bonferroni = ci_t(X_bar[1], se_mu2, t_critical_bonferroni)\n",
    "\n",
    "print(f\"Univarijatni 95% CI za μ_1: {CI_mu1_t}\")\n",
    "print(f\"Univarijatni 95% CI za μ_2: {CI_mu2_t}\")\n",
    "print(f\"Bonferronijev 95% CI za μ_1: {CI_mu1_t_bonferroni}\")\n",
    "print(f\"Bonferronijev 95% CI za μ_2: {CI_mu2_t_bonferroni}\")\n",
    "print(f\"95% T^2 CI za μ_1: {CI_mu1}\")\n",
    "print(f\"95% T^2 CI za μ_2: {CI_mu2}\")\n"
   ]
  },
  {
   "cell_type": "markdown",
   "id": "667384e7-54b0-47a8-a46d-effe08b9150c",
   "metadata": {
    "tags": []
   },
   "source": [
    "Izračunajte $\\tilde{\\chi}^2$ interval pouzdanosti za velike uzorke za srednju vrijednost svake varijable. Usporedite dobivenu vrijednost s prethodno dobivenim vrijednostima."
   ]
  },
  {
   "cell_type": "code",
   "execution_count": 24,
   "id": "5fbe4fc0-dc6d-408c-952d-854b6c2306f9",
   "metadata": {},
   "outputs": [
    {
     "name": "stdout",
     "output_type": "stream",
     "text": [
      "Univarijatni 95% CI za μ_1: [0.8426893355622564, 2.3337484632058745]\n",
      "Univarijatni 95% CI za μ_2: [2.5253027998541415, 3.4278322936190695]\n"
     ]
    }
   ],
   "source": [
    "from scipy.stats import chi2\n",
    "\n",
    "chi = chi2.ppf(1 - alpha, df1)\n",
    "\n",
    "CI_x1 = [X_bar[0] - np.sqrt(chi) * np.sqrt(S[0,0] / n),\n",
    "         X_bar[0] + np.sqrt(chi) * np.sqrt(S[0,0] / n)]\n",
    "\n",
    "CI_x2 = [X_bar[1] - np.sqrt(chi) * np.sqrt(S[1,1] / n),\n",
    "         X_bar[1] + np.sqrt(chi) * np.sqrt(S[1,1] / n)]\n",
    "\n",
    "print(f\"Univarijatni 95% CI za μ_1: {CI_x1}\")\n",
    "print(f\"Univarijatni 95% CI za μ_2: {CI_x2}\")"
   ]
  },
  {
   "cell_type": "markdown",
   "id": "b37b35be-c378-4826-8c65-35f1b4cdc33c",
   "metadata": {
    "tags": []
   },
   "source": [
    "U idućem zadatku ćete provesti ostatak naučenih metoda vezano uz statističko zaključivanje o više vektora sredine."
   ]
  },
  {
   "cell_type": "markdown",
   "id": "3366aaca-3dd6-40e5-a004-2c554f5d8b5a",
   "metadata": {},
   "source": [
    "### 4. Primjena implementiranih metoda\n",
    "\n",
    "Učitajte podatkovni skup [*iris*](https://archive.ics.uci.edu/ml/datasets/Iris) (postoji mogućnost i učitavanja unutar jezika - [Python](https://scikit-learn.org/stable/modules/generated/sklearn.datasets.load_iris.html) / [R](https://technicaljockey.com/r-programming-training/loading-iris-data-set-in-r/))."
   ]
  },
  {
   "cell_type": "code",
   "execution_count": 25,
   "id": "41b288b3-d343-4171-8ac1-253045c21651",
   "metadata": {},
   "outputs": [
    {
     "name": "stdout",
     "output_type": "stream",
     "text": [
      "   sepal length (cm)  sepal width (cm)  petal length (cm)  petal width (cm)\n",
      "0                5.1               3.5                1.4               0.2\n",
      "1                4.9               3.0                1.4               0.2\n",
      "2                4.7               3.2                1.3               0.2\n",
      "3                4.6               3.1                1.5               0.2\n",
      "4                5.0               3.6                1.4               0.2\n"
     ]
    }
   ],
   "source": [
    "from sklearn.datasets import load_iris\n",
    "iris = load_iris()\n",
    "iris_df = pd.DataFrame(data=iris.data, columns=iris.feature_names)\n",
    "\n",
    "print(iris_df.head())"
   ]
  },
  {
   "cell_type": "markdown",
   "id": "9be11844-7b27-4076-9a71-f2228d513977",
   "metadata": {},
   "source": [
    "Procijenite parametre $\\mathbf{\\mu},\\mathbf{\\Sigma}$ vezane uz 4 numeričke varijable."
   ]
  },
  {
   "cell_type": "code",
   "execution_count": 26,
   "id": "bbde6b06-cf63-49db-9775-0417773693c8",
   "metadata": {},
   "outputs": [
    {
     "name": "stdout",
     "output_type": "stream",
     "text": [
      "μ:sepal length (cm)    5.843333\n",
      "sepal width (cm)     3.057333\n",
      "petal length (cm)    3.758000\n",
      "petal width (cm)     1.199333\n",
      "dtype: float64\n",
      "Σ:sepal length (cm)    0.825301\n",
      "sepal width (cm)     0.434411\n",
      "petal length (cm)    1.759404\n",
      "petal width (cm)     0.759693\n",
      "dtype: float64\n"
     ]
    }
   ],
   "source": [
    "mu = np.mean(iris_df, axis=0)\n",
    "sigma = np.std(iris_df, axis=0)\n",
    "print(\"\\u03BC:\" + str(mu))\n",
    "print(\"\\u03A3:\" + str(sigma))"
   ]
  },
  {
   "cell_type": "markdown",
   "id": "78edaa88-afbd-44b8-a5ce-acddb2b9049c",
   "metadata": {},
   "source": [
    "Provedite analizu normalnosti 4 numeričkih varijabli. Ukoliko je potrebno, predložite koje transformacije biste radili na podatcima kako biste ojačali pretpostavke normalnosti u skupu. "
   ]
  },
  {
   "cell_type": "code",
   "execution_count": 27,
   "id": "f2cb20df-ae9b-47d8-971e-2f325ebb7ee3",
   "metadata": {},
   "outputs": [
    {
     "data": {
      "image/png": "[encoded data removed]",
      "text/plain": [
       "<Figure size 720x288 with 2 Axes>"
      ]
     },
     "metadata": {
      "needs_background": "light"
     },
     "output_type": "display_data"
    },
    {
     "data": {
      "image/png": "[encoded data removed]",
      "text/plain": [
       "<Figure size 720x288 with 2 Axes>"
      ]
     },
     "metadata": {
      "needs_background": "light"
     },
     "output_type": "display_data"
    },
    {
     "data": {
      "image/png": "[encoded data removed]",
      "text/plain": [
       "<Figure size 720x288 with 2 Axes>"
      ]
     },
     "metadata": {
      "needs_background": "light"
     },
     "output_type": "display_data"
    },
    {
     "data": {
      "image/png": "[encoded data removed]",
      "text/plain": [
       "<Figure size 720x288 with 2 Axes>"
      ]
     },
     "metadata": {
      "needs_background": "light"
     },
     "output_type": "display_data"
    }
   ],
   "source": [
    "for col in iris_df.columns:\n",
    "    plt.figure(figsize=(10, 4))\n",
    "    \n",
    "    plt.subplot(1, 2, 1)\n",
    "    plt.hist(iris_df[col], bins=20, edgecolor='black')\n",
    "    plt.title(col + ' histogram')\n",
    "    \n",
    "    plt.subplot(1, 2, 2)\n",
    "    stats.probplot(iris_df[col], dist='norm', plot=plt)\n",
    "    plt.title(col + ' Q-Q plot')\n",
    "    \n",
    "    plt.show()"
   ]
  },
  {
   "cell_type": "markdown",
   "id": "05bf7142-6a2b-4824-8bb1-c0cc192db3bc",
   "metadata": {},
   "source": [
    "Provedite detekciju stršećih vrijednosti (vizualno/numerički).\n",
    "\n",
    "**Hint**: Poglavlje 4.7 (Johnson)"
   ]
  },
  {
   "cell_type": "code",
   "execution_count": 28,
   "id": "329a99c2-4151-4656-8cfb-5be77d5f009d",
   "metadata": {},
   "outputs": [
    {
     "data": {
      "image/png": "[encoded data removed]",
      "text/plain": [
       "<Figure size 576x288 with 1 Axes>"
      ]
     },
     "metadata": {
      "needs_background": "light"
     },
     "output_type": "display_data"
    },
    {
     "data": {
      "image/png": "[encoded data removed]",
      "text/plain": [
       "<Figure size 576x288 with 1 Axes>"
      ]
     },
     "metadata": {
      "needs_background": "light"
     },
     "output_type": "display_data"
    },
    {
     "data": {
      "image/png": "[encoded data removed]",
      "text/plain": [
       "<Figure size 576x288 with 1 Axes>"
      ]
     },
     "metadata": {
      "needs_background": "light"
     },
     "output_type": "display_data"
    },
    {
     "data": {
      "image/png": "[encoded data removed]",
      "text/plain": [
       "<Figure size 576x288 with 1 Axes>"
      ]
     },
     "metadata": {
      "needs_background": "light"
     },
     "output_type": "display_data"
    }
   ],
   "source": [
    "for col in iris_df.columns:\n",
    "    plt.figure(figsize=(8, 4))\n",
    "    sns.boxplot(x=iris_df[col])\n",
    "    plt.title(col + ' box plot')\n",
    "    plt.show()"
   ]
  },
  {
   "cell_type": "markdown",
   "id": "5eac6e45-ce54-4c36-b4f0-e361937af25e",
   "metadata": {},
   "source": [
    "Odredite $95\\%$-tno područje pouzdanosti za srednje vrijednosti varijabli.\n",
    "\n",
    "**Hint**: Prethodno implementirani $T^2$-interval/ $t$-interval/ Bonferroni"
   ]
  },
  {
   "cell_type": "code",
   "execution_count": 29,
   "id": "c8e18dc3-2ac4-4e30-9d9a-9be96128c3ba",
   "metadata": {},
   "outputs": [
    {
     "name": "stdout",
     "output_type": "stream",
     "text": [
      "95%-tno područje pouzdanosti za sepal length (cm): (5.672385408214408, 6.014281258452261)\n",
      "95%-tno područje pouzdanosti za sepal width (cm): (2.967352069130223, 3.1473145975364454)\n",
      "95%-tno područje pouzdanosti za petal length (cm): (3.3935676678519116, 4.122432332148094)\n",
      "95%-tno područje pouzdanosti za petal width (cm): (1.0419751906032866, 1.3566914760633815)\n"
     ]
    }
   ],
   "source": [
    "sem = iris_df.sem()\n",
    "n = len(iris_df)\n",
    "num_variables = len(iris_df.columns)\n",
    "alpha = 0.05\n",
    "bonferroni_alpha = alpha / num_variables\n",
    "\n",
    "df = n - 1\n",
    "\n",
    "t_critical = t.ppf(1 - bonferroni_alpha / 2, df)\n",
    "\n",
    "confidence_intervals = []\n",
    "for i in range(num_variables):\n",
    "    lower_bound = mu[i] - t_critical * sem[i]\n",
    "    upper_bound = mu[i] + t_critical * sem[i]\n",
    "    confidence_intervals.append((lower_bound, upper_bound))\n",
    "\n",
    "for i, interval in enumerate(confidence_intervals):\n",
    "    print(f\"95%-tno područje pouzdanosti za {iris_df.columns[i]}: {interval}\")"
   ]
  },
  {
   "cell_type": "markdown",
   "id": "7f3ba005-1613-4264-a3fb-1d23fcb778f4",
   "metadata": {},
   "source": [
    "Razmatramo *species: virginica* populaciju. Razlikuju li se  *sepal* __length__ i __width__ varijable od *petal* __length__ i __width__ varijabli (duljina i širina sepala i papučica - dijelovi reproduktivnog sustava cvijeta)?\n",
    "\n",
    "**Hint**: Metoda uparenih usporedbi"
   ]
  },
  {
   "cell_type": "code",
   "execution_count": 30,
   "id": "dde1d36a-ab6a-4863-809e-5b92b2cfda47",
   "metadata": {},
   "outputs": [
    {
     "name": "stdout",
     "output_type": "stream",
     "text": [
      "Postoji statistički značajna razlika između sepal_length i petal_length (p-vrijednost = 7.985259485031611e-28 ).\n",
      "\n",
      "Postoji statistički značajna razlika između sepal_width i petal_width (p-vrijednost = 5.339057365526556e-28 ).\n"
     ]
    }
   ],
   "source": [
    "iris_df.columns = [col.replace(' ', '_').replace('_(cm)', '') for col in iris_df.columns]\n",
    "\n",
    "iris_df['species'] = iris.target\n",
    "\n",
    "virginica_df = iris_df[iris_df['species'] == 2]\n",
    "\n",
    "t_test1 = ttest_rel(virginica_df['sepal_length'], virginica_df['petal_length'])\n",
    "t_test2 = ttest_rel(virginica_df['sepal_width'], virginica_df['petal_width'])\n",
    "\n",
    "alfa = 0.05\n",
    "\n",
    "if t_test1.pvalue < alfa:\n",
    "    print(\"Postoji statistički značajna razlika između sepal_length i petal_length (p-vrijednost =\", t_test1.pvalue, \").\")\n",
    "else:\n",
    "    print(\"Nema statistički značajne razlike između sepal_length i petal_length (p-vrijednost =\", t_test1.pvalue, \").\")\n",
    "\n",
    "if t_test2.pvalue < alfa:\n",
    "    print(\"\\nPostoji statistički značajna razlika između sepal_width i petal_width (p-vrijednost =\", t_test2.pvalue, \").\")\n",
    "else:\n",
    "    print(\"\\nNema statistički značajne razlike između sepal_width i petal_width (p-vrijednost =\", t_test2.pvalue, \").\")"
   ]
  },
  {
   "cell_type": "markdown",
   "id": "8f8bdbd4-45df-43f4-bb0b-56df5c0105ba",
   "metadata": {},
   "source": [
    "Usporedite vektore srednjih vrijednosti za sve varijable između svih *species* populacija. Postoji li statistički značajna razlika?\n",
    "\n",
    "**Hint**: MANOVA"
   ]
  },
  {
   "cell_type": "code",
   "execution_count": 31,
   "id": "55d32f61-a1a4-4738-b228-044ebf273a12",
   "metadata": {},
   "outputs": [
    {
     "name": "stdout",
     "output_type": "stream",
     "text": [
      "MANOVA rezultati:\n",
      "                    Multivariate linear model\n",
      "================================================================\n",
      "                                                                \n",
      "----------------------------------------------------------------\n",
      "       Intercept         Value  Num DF  Den DF   F Value  Pr > F\n",
      "----------------------------------------------------------------\n",
      "          Wilks' lambda  0.0190 4.0000 145.0000 1875.7577 0.0000\n",
      "         Pillai's trace  0.9810 4.0000 145.0000 1875.7577 0.0000\n",
      " Hotelling-Lawley trace 51.7450 4.0000 145.0000 1875.7577 0.0000\n",
      "    Roy's greatest root 51.7450 4.0000 145.0000 1875.7577 0.0000\n",
      "----------------------------------------------------------------\n",
      "                                                                \n",
      "----------------------------------------------------------------\n",
      "         species          Value  Num DF  Den DF  F Value  Pr > F\n",
      "----------------------------------------------------------------\n",
      "           Wilks' lambda  0.0696 4.0000 145.0000 484.5379 0.0000\n",
      "          Pillai's trace  0.9304 4.0000 145.0000 484.5379 0.0000\n",
      "  Hotelling-Lawley trace 13.3666 4.0000 145.0000 484.5379 0.0000\n",
      "     Roy's greatest root 13.3666 4.0000 145.0000 484.5379 0.0000\n",
      "================================================================\n",
      "\n"
     ]
    }
   ],
   "source": [
    "iris_df.columns = [col.replace(' ', '_').replace('_(cm)', '') for col in iris_df.columns]\n",
    "\n",
    "iris_df['species'] = iris.target\n",
    "\n",
    "manova = MANOVA.from_formula('sepal_length + sepal_width + petal_length + petal_width ~ species', data=iris_df)\n",
    "result = manova.mv_test()\n",
    "\n",
    "print(\"MANOVA rezultati:\\n\", result.summary())"
   ]
  },
  {
   "cell_type": "markdown",
   "id": "d8c00415-017e-4390-9826-face11570d2c",
   "metadata": {},
   "source": [
    "**Bonus**: Postoji li dodatno istraživačko pitanje koje želite testirati?"
   ]
  },
  {
   "cell_type": "markdown",
   "id": "096a4ca1",
   "metadata": {},
   "source": [
    "Ne hvala."
   ]
  }
 ],
 "metadata": {
  "kernelspec": {
   "display_name": "Python 3 (ipykernel)",
   "language": "python",
   "name": "python3"
  },
  "language_info": {
   "codemirror_mode": {
    "name": "ipython",
    "version": 3
   },
   "file_extension": ".py",
   "mimetype": "text/x-python",
   "name": "python",
   "nbconvert_exporter": "python",
   "pygments_lexer": "ipython3",
   "version": "3.9.7"
  }
 },
 "nbformat": 4,
 "nbformat_minor": 5
}
